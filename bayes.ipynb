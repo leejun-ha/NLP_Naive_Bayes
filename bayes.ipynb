{
 "cells": [
  {
   "attachments": {},
   "cell_type": "markdown",
   "metadata": {},
   "source": [
    "# Dataset load"
   ]
  },
  {
   "cell_type": "code",
   "execution_count": 85,
   "metadata": {},
   "outputs": [
    {
     "data": {
      "text/html": [
       "<div>\n",
       "<style scoped>\n",
       "    .dataframe tbody tr th:only-of-type {\n",
       "        vertical-align: middle;\n",
       "    }\n",
       "\n",
       "    .dataframe tbody tr th {\n",
       "        vertical-align: top;\n",
       "    }\n",
       "\n",
       "    .dataframe thead th {\n",
       "        text-align: right;\n",
       "    }\n",
       "</style>\n",
       "<table border=\"1\" class=\"dataframe\">\n",
       "  <thead>\n",
       "    <tr style=\"text-align: right;\">\n",
       "      <th></th>\n",
       "      <th>link</th>\n",
       "      <th>headline</th>\n",
       "      <th>category</th>\n",
       "      <th>short_description</th>\n",
       "      <th>authors</th>\n",
       "      <th>date</th>\n",
       "    </tr>\n",
       "  </thead>\n",
       "  <tbody>\n",
       "    <tr>\n",
       "      <th>0</th>\n",
       "      <td>https://www.huffpost.com/entry/covid-boosters-...</td>\n",
       "      <td>Over 4 Million Americans Roll Up Sleeves For O...</td>\n",
       "      <td>U.S. NEWS</td>\n",
       "      <td>Health experts said it is too early to predict...</td>\n",
       "      <td>Carla K. Johnson, AP</td>\n",
       "      <td>2022-09-23</td>\n",
       "    </tr>\n",
       "    <tr>\n",
       "      <th>1</th>\n",
       "      <td>https://www.huffpost.com/entry/american-airlin...</td>\n",
       "      <td>American Airlines Flyer Charged, Banned For Li...</td>\n",
       "      <td>U.S. NEWS</td>\n",
       "      <td>He was subdued by passengers and crew when he ...</td>\n",
       "      <td>Mary Papenfuss</td>\n",
       "      <td>2022-09-23</td>\n",
       "    </tr>\n",
       "    <tr>\n",
       "      <th>2</th>\n",
       "      <td>https://www.huffpost.com/entry/funniest-tweets...</td>\n",
       "      <td>23 Of The Funniest Tweets About Cats And Dogs ...</td>\n",
       "      <td>COMEDY</td>\n",
       "      <td>\"Until you have a dog you don't understand wha...</td>\n",
       "      <td>Elyse Wanshel</td>\n",
       "      <td>2022-09-23</td>\n",
       "    </tr>\n",
       "    <tr>\n",
       "      <th>3</th>\n",
       "      <td>https://www.huffpost.com/entry/funniest-parent...</td>\n",
       "      <td>The Funniest Tweets From Parents This Week (Se...</td>\n",
       "      <td>PARENTING</td>\n",
       "      <td>\"Accidentally put grown-up toothpaste on my to...</td>\n",
       "      <td>Caroline Bologna</td>\n",
       "      <td>2022-09-23</td>\n",
       "    </tr>\n",
       "    <tr>\n",
       "      <th>4</th>\n",
       "      <td>https://www.huffpost.com/entry/amy-cooper-lose...</td>\n",
       "      <td>Woman Who Called Cops On Black Bird-Watcher Lo...</td>\n",
       "      <td>U.S. NEWS</td>\n",
       "      <td>Amy Cooper accused investment firm Franklin Te...</td>\n",
       "      <td>Nina Golgowski</td>\n",
       "      <td>2022-09-22</td>\n",
       "    </tr>\n",
       "    <tr>\n",
       "      <th>...</th>\n",
       "      <td>...</td>\n",
       "      <td>...</td>\n",
       "      <td>...</td>\n",
       "      <td>...</td>\n",
       "      <td>...</td>\n",
       "      <td>...</td>\n",
       "    </tr>\n",
       "    <tr>\n",
       "      <th>209522</th>\n",
       "      <td>https://www.huffingtonpost.com/entry/rim-ceo-t...</td>\n",
       "      <td>RIM CEO Thorsten Heins' 'Significant' Plans Fo...</td>\n",
       "      <td>SCIENCE &amp; TECH</td>\n",
       "      <td>Verizon Wireless and AT&amp;T are already promotin...</td>\n",
       "      <td>Reuters, Reuters</td>\n",
       "      <td>2012-01-28</td>\n",
       "    </tr>\n",
       "    <tr>\n",
       "      <th>209523</th>\n",
       "      <td>https://www.huffingtonpost.com/entry/maria-sha...</td>\n",
       "      <td>Maria Sharapova Stunned By Victoria Azarenka I...</td>\n",
       "      <td>SPORTS</td>\n",
       "      <td>Afterward, Azarenka, more effusive with the pr...</td>\n",
       "      <td></td>\n",
       "      <td>2012-01-28</td>\n",
       "    </tr>\n",
       "    <tr>\n",
       "      <th>209524</th>\n",
       "      <td>https://www.huffingtonpost.com/entry/super-bow...</td>\n",
       "      <td>Giants Over Patriots, Jets Over Colts Among  M...</td>\n",
       "      <td>SPORTS</td>\n",
       "      <td>Leading up to Super Bowl XLVI, the most talked...</td>\n",
       "      <td></td>\n",
       "      <td>2012-01-28</td>\n",
       "    </tr>\n",
       "    <tr>\n",
       "      <th>209525</th>\n",
       "      <td>https://www.huffingtonpost.com/entry/aldon-smi...</td>\n",
       "      <td>Aldon Smith Arrested: 49ers Linebacker Busted ...</td>\n",
       "      <td>SPORTS</td>\n",
       "      <td>CORRECTION: An earlier version of this story i...</td>\n",
       "      <td></td>\n",
       "      <td>2012-01-28</td>\n",
       "    </tr>\n",
       "    <tr>\n",
       "      <th>209526</th>\n",
       "      <td>https://www.huffingtonpost.com/entry/dwight-ho...</td>\n",
       "      <td>Dwight Howard Rips Teammates After Magic Loss ...</td>\n",
       "      <td>SPORTS</td>\n",
       "      <td>The five-time all-star center tore into his te...</td>\n",
       "      <td></td>\n",
       "      <td>2012-01-28</td>\n",
       "    </tr>\n",
       "  </tbody>\n",
       "</table>\n",
       "<p>209527 rows × 6 columns</p>\n",
       "</div>"
      ],
      "text/plain": [
       "                                                     link  \\\n",
       "0       https://www.huffpost.com/entry/covid-boosters-...   \n",
       "1       https://www.huffpost.com/entry/american-airlin...   \n",
       "2       https://www.huffpost.com/entry/funniest-tweets...   \n",
       "3       https://www.huffpost.com/entry/funniest-parent...   \n",
       "4       https://www.huffpost.com/entry/amy-cooper-lose...   \n",
       "...                                                   ...   \n",
       "209522  https://www.huffingtonpost.com/entry/rim-ceo-t...   \n",
       "209523  https://www.huffingtonpost.com/entry/maria-sha...   \n",
       "209524  https://www.huffingtonpost.com/entry/super-bow...   \n",
       "209525  https://www.huffingtonpost.com/entry/aldon-smi...   \n",
       "209526  https://www.huffingtonpost.com/entry/dwight-ho...   \n",
       "\n",
       "                                                 headline        category  \\\n",
       "0       Over 4 Million Americans Roll Up Sleeves For O...       U.S. NEWS   \n",
       "1       American Airlines Flyer Charged, Banned For Li...       U.S. NEWS   \n",
       "2       23 Of The Funniest Tweets About Cats And Dogs ...          COMEDY   \n",
       "3       The Funniest Tweets From Parents This Week (Se...       PARENTING   \n",
       "4       Woman Who Called Cops On Black Bird-Watcher Lo...       U.S. NEWS   \n",
       "...                                                   ...             ...   \n",
       "209522  RIM CEO Thorsten Heins' 'Significant' Plans Fo...  SCIENCE & TECH   \n",
       "209523  Maria Sharapova Stunned By Victoria Azarenka I...          SPORTS   \n",
       "209524  Giants Over Patriots, Jets Over Colts Among  M...          SPORTS   \n",
       "209525  Aldon Smith Arrested: 49ers Linebacker Busted ...          SPORTS   \n",
       "209526  Dwight Howard Rips Teammates After Magic Loss ...          SPORTS   \n",
       "\n",
       "                                        short_description  \\\n",
       "0       Health experts said it is too early to predict...   \n",
       "1       He was subdued by passengers and crew when he ...   \n",
       "2       \"Until you have a dog you don't understand wha...   \n",
       "3       \"Accidentally put grown-up toothpaste on my to...   \n",
       "4       Amy Cooper accused investment firm Franklin Te...   \n",
       "...                                                   ...   \n",
       "209522  Verizon Wireless and AT&T are already promotin...   \n",
       "209523  Afterward, Azarenka, more effusive with the pr...   \n",
       "209524  Leading up to Super Bowl XLVI, the most talked...   \n",
       "209525  CORRECTION: An earlier version of this story i...   \n",
       "209526  The five-time all-star center tore into his te...   \n",
       "\n",
       "                     authors       date  \n",
       "0       Carla K. Johnson, AP 2022-09-23  \n",
       "1             Mary Papenfuss 2022-09-23  \n",
       "2              Elyse Wanshel 2022-09-23  \n",
       "3           Caroline Bologna 2022-09-23  \n",
       "4             Nina Golgowski 2022-09-22  \n",
       "...                      ...        ...  \n",
       "209522      Reuters, Reuters 2012-01-28  \n",
       "209523                       2012-01-28  \n",
       "209524                       2012-01-28  \n",
       "209525                       2012-01-28  \n",
       "209526                       2012-01-28  \n",
       "\n",
       "[209527 rows x 6 columns]"
      ]
     },
     "metadata": {},
     "output_type": "display_data"
    }
   ],
   "source": [
    "import pandas as pd\n",
    "\n",
    "df = pd.read_json('News_Category_Dataset_v3_balanced.json', lines=True)\n",
    "display(df)"
   ]
  },
  {
   "cell_type": "code",
   "execution_count": 86,
   "metadata": {},
   "outputs": [
    {
     "data": {
      "text/plain": [
       "\"He was subdued by passengers and crew when he fled to the back of the aircraft after the confrontation, according to the U.S. attorney's office in Los Angeles.\""
      ]
     },
     "execution_count": 86,
     "metadata": {},
     "output_type": "execute_result"
    }
   ],
   "source": [
    "text = df.iloc[1]['short_description']\n",
    "text"
   ]
  },
  {
   "cell_type": "code",
   "execution_count": 87,
   "metadata": {},
   "outputs": [],
   "source": [
    "from sklearn.model_selection import train_test_split\n",
    "\n",
    "train, test = train_test_split(df, test_size=0.2, random_state = 1)\n",
    "train = train.reset_index()\n",
    "test = test.reset_index()"
   ]
  },
  {
   "attachments": {},
   "cell_type": "markdown",
   "metadata": {},
   "source": [
    "# Naive_bayes"
   ]
  },
  {
   "cell_type": "code",
   "execution_count": 88,
   "metadata": {},
   "outputs": [
    {
     "name": "stderr",
     "output_type": "stream",
     "text": [
      "[nltk_data] Downloading collection 'popular'\n",
      "[nltk_data]    | \n",
      "[nltk_data]    | Downloading package cmudict to\n",
      "[nltk_data]    |     /home/iknow/nltk_data...\n",
      "[nltk_data]    |   Package cmudict is already up-to-date!\n",
      "[nltk_data]    | Downloading package gazetteers to\n",
      "[nltk_data]    |     /home/iknow/nltk_data...\n",
      "[nltk_data]    |   Package gazetteers is already up-to-date!\n",
      "[nltk_data]    | Downloading package genesis to\n",
      "[nltk_data]    |     /home/iknow/nltk_data...\n",
      "[nltk_data]    |   Package genesis is already up-to-date!\n",
      "[nltk_data]    | Downloading package gutenberg to\n",
      "[nltk_data]    |     /home/iknow/nltk_data...\n",
      "[nltk_data]    |   Package gutenberg is already up-to-date!\n",
      "[nltk_data]    | Downloading package inaugural to\n",
      "[nltk_data]    |     /home/iknow/nltk_data...\n",
      "[nltk_data]    |   Package inaugural is already up-to-date!\n",
      "[nltk_data]    | Downloading package movie_reviews to\n",
      "[nltk_data]    |     /home/iknow/nltk_data...\n",
      "[nltk_data]    |   Package movie_reviews is already up-to-date!\n",
      "[nltk_data]    | Downloading package names to /home/iknow/nltk_data...\n",
      "[nltk_data]    |   Package names is already up-to-date!\n",
      "[nltk_data]    | Downloading package shakespeare to\n",
      "[nltk_data]    |     /home/iknow/nltk_data...\n",
      "[nltk_data]    |   Package shakespeare is already up-to-date!\n",
      "[nltk_data]    | Downloading package stopwords to\n",
      "[nltk_data]    |     /home/iknow/nltk_data...\n",
      "[nltk_data]    |   Package stopwords is already up-to-date!\n",
      "[nltk_data]    | Downloading package treebank to\n",
      "[nltk_data]    |     /home/iknow/nltk_data...\n",
      "[nltk_data]    |   Package treebank is already up-to-date!\n",
      "[nltk_data]    | Downloading package twitter_samples to\n",
      "[nltk_data]    |     /home/iknow/nltk_data...\n",
      "[nltk_data]    |   Package twitter_samples is already up-to-date!\n",
      "[nltk_data]    | Downloading package omw to /home/iknow/nltk_data...\n",
      "[nltk_data]    |   Package omw is already up-to-date!\n",
      "[nltk_data]    | Downloading package omw-1.4 to\n",
      "[nltk_data]    |     /home/iknow/nltk_data...\n",
      "[nltk_data]    |   Package omw-1.4 is already up-to-date!\n",
      "[nltk_data]    | Downloading package wordnet to\n",
      "[nltk_data]    |     /home/iknow/nltk_data...\n",
      "[nltk_data]    |   Package wordnet is already up-to-date!\n",
      "[nltk_data]    | Downloading package wordnet2021 to\n",
      "[nltk_data]    |     /home/iknow/nltk_data...\n",
      "[nltk_data]    |   Package wordnet2021 is already up-to-date!\n",
      "[nltk_data]    | Downloading package wordnet31 to\n",
      "[nltk_data]    |     /home/iknow/nltk_data...\n",
      "[nltk_data]    |   Package wordnet31 is already up-to-date!\n",
      "[nltk_data]    | Downloading package wordnet_ic to\n",
      "[nltk_data]    |     /home/iknow/nltk_data...\n",
      "[nltk_data]    |   Package wordnet_ic is already up-to-date!\n",
      "[nltk_data]    | Downloading package words to /home/iknow/nltk_data...\n",
      "[nltk_data]    |   Package words is already up-to-date!\n",
      "[nltk_data]    | Downloading package maxent_ne_chunker to\n",
      "[nltk_data]    |     /home/iknow/nltk_data...\n",
      "[nltk_data]    |   Package maxent_ne_chunker is already up-to-date!\n",
      "[nltk_data]    | Downloading package punkt to /home/iknow/nltk_data...\n",
      "[nltk_data]    |   Package punkt is already up-to-date!\n",
      "[nltk_data]    | Downloading package snowball_data to\n",
      "[nltk_data]    |     /home/iknow/nltk_data...\n",
      "[nltk_data]    |   Package snowball_data is already up-to-date!\n",
      "[nltk_data]    | Downloading package averaged_perceptron_tagger to\n",
      "[nltk_data]    |     /home/iknow/nltk_data...\n",
      "[nltk_data]    |   Package averaged_perceptron_tagger is already up-\n",
      "[nltk_data]    |       to-date!\n",
      "[nltk_data]    | \n",
      "[nltk_data]  Done downloading collection popular\n"
     ]
    },
    {
     "data": {
      "text/plain": [
       "True"
      ]
     },
     "execution_count": 88,
     "metadata": {},
     "output_type": "execute_result"
    }
   ],
   "source": [
    "import nltk\n",
    "nltk.download(\"popular\")"
   ]
  },
  {
   "cell_type": "code",
   "execution_count": 89,
   "metadata": {},
   "outputs": [],
   "source": [
    "from nltk.tokenize import word_tokenize"
   ]
  },
  {
   "cell_type": "code",
   "execution_count": 90,
   "metadata": {},
   "outputs": [
    {
     "name": "stdout",
     "output_type": "stream",
     "text": [
      "['He', 'was', 'subdued', 'by', 'passengers', 'and', 'crew', 'when', 'he', 'fled', 'to', 'the', 'back', 'of', 'the', 'aircraft', 'after', 'the', 'confrontation', ',', 'according', 'to', 'the', 'U.S.', 'attorney', \"'s\", 'office', 'in', 'Los', 'Angeles', '.']\n"
     ]
    }
   ],
   "source": [
    "print(word_tokenize(text))"
   ]
  },
  {
   "cell_type": "code",
   "execution_count": 91,
   "metadata": {},
   "outputs": [],
   "source": [
    "import sys, math"
   ]
  },
  {
   "cell_type": "code",
   "execution_count": 111,
   "metadata": {},
   "outputs": [],
   "source": [
    "class Naive_bayes: \n",
    "    def __init__(self):\n",
    "        self.words = set() # list of word \n",
    "        self.word_freq = {} # frequency of word\n",
    "        self.category_freq = {} # frequency of category\n",
    "\n",
    "    def word_count(self, word, category):\n",
    "        if not category in self.word_freq: # If category doesn't exist in word_freq, add category\n",
    "            self.word_freq[category] = {}\n",
    "        if not word in self.word_freq[category]: # If word doesn't exist in word_freq[category], add word\n",
    "            self.word_freq[category][word] = 0\n",
    "        \n",
    "        self.word_freq[category][word] += 1\n",
    "        self.words.add(word)\n",
    "    \n",
    "    def category_count(self, category):\n",
    "        if not category in self.category_freq:\n",
    "            self.category_freq[category] = 0\n",
    "        self.category_freq[category] += 1\n",
    "    \n",
    "    def train(self, text, category):\n",
    "        word_list = word_tokenize(text)\n",
    "        for word in word_list:\n",
    "            self.word_count(word, category)\n",
    "        self.category_count(category)\n",
    "\n",
    "    def score(self, words, category):\n",
    "        prob = math.log(self.category_prob(category))\n",
    "        for word in words:\n",
    "            prob *= math.log(self.word_prob(word, category))\n",
    "        \n",
    "        return prob\n",
    "\n",
    "    def predict(self, text):\n",
    "        most_category = None\n",
    "        high_score = -sys.maxsize\n",
    "        words = word_tokenize(text)\n",
    "        score_list = []\n",
    "\n",
    "        for category in self.category_freq.keys():\n",
    "            score = self.score(words, category)\n",
    "            score_list.append((category, score))\n",
    "            if score > high_score:\n",
    "                high_score = score\n",
    "                most_category = category\n",
    "        \n",
    "        return most_category, score_list\n",
    "\n",
    "    def get_word_count(self, word, category):\n",
    "        if word in self.word_freq[category]:\n",
    "            return self.word_freq[category][word]\n",
    "        else:\n",
    "            return 0\n",
    "        \n",
    "    def category_prob(self, category):\n",
    "        category_sum = sum(self.category_freq.values())\n",
    "        category_num = self.category_freq[category]\n",
    "        return category_num / category_sum\n",
    "\n",
    "    def word_prob(self, word, category):\n",
    "        # smoothing\n",
    "        word_num = self.get_word_count(word, category) + 1\n",
    "        word_sum = sum(self.word_freq[category].values()) + len(self.words)\n",
    "        return word_num / word_sum"
   ]
  },
  {
   "cell_type": "code",
   "execution_count": 112,
   "metadata": {},
   "outputs": [],
   "source": [
    "from tqdm import tqdm"
   ]
  },
  {
   "cell_type": "code",
   "execution_count": 113,
   "metadata": {},
   "outputs": [
    {
     "name": "stderr",
     "output_type": "stream",
     "text": [
      "100%|██████████| 167621/167621 [01:23<00:00, 2006.08it/s]\n"
     ]
    }
   ],
   "source": [
    "Nb = Naive_bayes()\n",
    "\n",
    "for i in tqdm(range(len(train))):\n",
    "    Nb.train(train.iloc[i]['headline'] + train.iloc[i]['short_description'], train.iloc[i]['category'])\n"
   ]
  },
  {
   "cell_type": "code",
   "execution_count": 116,
   "metadata": {},
   "outputs": [
    {
     "name": "stdout",
     "output_type": "stream",
     "text": [
      "result:  U.S. NEWS\n",
      "ground_truth: As Pay Cards Replace Paychecks, Bank Fees Hurt Workers - NYTimes.comA growing number of American workers are confronting a frustrating predicament on payday: to get their wages, they must firstBUSINESS & FINANCES\n",
      "[('COMEDY', 2.5796653553333055e+32), ('WORLD NEWS', 1.3981169414712611e+31), ('WOMEN', 1.9692069591544758e+32), ('PARENTING', 1.382275949125197e+31), ('SCIENCE & TECH', 1.279938911787744e+32), ('EDUCATION', 2.2609709477411015e+32), ('WELLNESS', 5.196671828144507e+30), ('MEDIA', 5.837809070643403e+32), ('TRAVEL', 1.264597136731212e+31), ('IMPACT', 4.402181620358873e+31), ('POLITICS', 2.198328108740048e+30), ('CRIME', 3.404395600742321e+32), ('BUSINESS & FINANCES', 1.435128783349627e+30), ('ENTERTAINMENT', 4.183287226579558e+31), ('FOOD & DRINK', 7.780630034910895e+31), ('STYLE & BEAUTY', 4.441194284951859e+31), ('RELIGION', 3.870496157457652e+32), ('DIVORCE', 8.550594039389763e+31), ('ARTS & CULTURE', 1.6480965735584998e+32), ('WEIRD NEWS', 1.7661050350420986e+33), ('SPORTS', 1.657796008693874e+32), ('HOME & LIVING', 1.836577817922226e+32), ('U.S. NEWS', 2.0405124009878376e+33), ('GROUPS VOICES', 1.9554170699793646e+31), ('WEDDINGS', 1.773879910963993e+32), ('ENVIRONMENT', 8.70558728552829e+31), ('MISCELLANEOUS', 2.5423511904595257e+32)]\n"
     ]
    }
   ],
   "source": [
    "pred, scorelist = Nb.predict(test.iloc[0]['headline'] + test.iloc[0]['short_description'])\n",
    "print(\"result: \", pred)\n",
    "print(\"ground_truth: \" + test.iloc[0]['headline'] + test.iloc[0]['short_description'] + test.iloc[0]['category'] )\n",
    "print(scorelist)"
   ]
  },
  {
   "cell_type": "code",
   "execution_count": 117,
   "metadata": {},
   "outputs": [
    {
     "data": {
      "text/html": [
       "<div>\n",
       "<style scoped>\n",
       "    .dataframe tbody tr th:only-of-type {\n",
       "        vertical-align: middle;\n",
       "    }\n",
       "\n",
       "    .dataframe tbody tr th {\n",
       "        vertical-align: top;\n",
       "    }\n",
       "\n",
       "    .dataframe thead th {\n",
       "        text-align: right;\n",
       "    }\n",
       "</style>\n",
       "<table border=\"1\" class=\"dataframe\">\n",
       "  <thead>\n",
       "    <tr style=\"text-align: right;\">\n",
       "      <th></th>\n",
       "      <th>index</th>\n",
       "      <th>link</th>\n",
       "      <th>headline</th>\n",
       "      <th>category</th>\n",
       "      <th>short_description</th>\n",
       "      <th>authors</th>\n",
       "      <th>date</th>\n",
       "    </tr>\n",
       "  </thead>\n",
       "  <tbody>\n",
       "    <tr>\n",
       "      <th>0</th>\n",
       "      <td>161038</td>\n",
       "      <td>https://www.huffingtonpost.comhttp://www.nytim...</td>\n",
       "      <td>As Pay Cards Replace Paychecks, Bank Fees Hurt...</td>\n",
       "      <td>BUSINESS &amp; FINANCES</td>\n",
       "      <td>A growing number of American workers are confr...</td>\n",
       "      <td></td>\n",
       "      <td>2013-06-30</td>\n",
       "    </tr>\n",
       "    <tr>\n",
       "      <th>1</th>\n",
       "      <td>24711</td>\n",
       "      <td>https://www.huffingtonpost.com/entry/aung-san-...</td>\n",
       "      <td>Aung San Suu Kyi's Speech On The Rohingya Cris...</td>\n",
       "      <td>WORLD NEWS</td>\n",
       "      <td>Imagine there were an ongoing humanitarian cri...</td>\n",
       "      <td>Michael Shammas, ContributorWriter &amp; Lawyer</td>\n",
       "      <td>2017-09-20</td>\n",
       "    </tr>\n",
       "    <tr>\n",
       "      <th>2</th>\n",
       "      <td>54649</td>\n",
       "      <td>https://www.huffingtonpost.com/entry/calls-to-...</td>\n",
       "      <td>Calls To Decriminalize Sex Work Are Growing Lo...</td>\n",
       "      <td>WORLD NEWS</td>\n",
       "      <td>As South Africa’s government debates whether o...</td>\n",
       "      <td>Jen Thorpe, Women &amp; Girls Hub</td>\n",
       "      <td>2016-10-07</td>\n",
       "    </tr>\n",
       "    <tr>\n",
       "      <th>3</th>\n",
       "      <td>199823</td>\n",
       "      <td>https://www.huffingtonpost.com/entry/fico-8-co...</td>\n",
       "      <td>FICO 8, Not FICO, Is Used In Recent Credit Com...</td>\n",
       "      <td>BUSINESS &amp; FINANCES</td>\n",
       "      <td>And the credit industry is not helping their o...</td>\n",
       "      <td>Catherine New</td>\n",
       "      <td>2012-05-11</td>\n",
       "    </tr>\n",
       "    <tr>\n",
       "      <th>4</th>\n",
       "      <td>19088</td>\n",
       "      <td>https://www.huffingtonpost.com/entry/18-year-o...</td>\n",
       "      <td>18-Year-Old Confesses To Molesting 'Upwards Of...</td>\n",
       "      <td>CRIME</td>\n",
       "      <td>Joseph Hayden Boston said he was 10 years old ...</td>\n",
       "      <td>Dominique Mosbergen</td>\n",
       "      <td>2017-12-04</td>\n",
       "    </tr>\n",
       "    <tr>\n",
       "      <th>...</th>\n",
       "      <td>...</td>\n",
       "      <td>...</td>\n",
       "      <td>...</td>\n",
       "      <td>...</td>\n",
       "      <td>...</td>\n",
       "      <td>...</td>\n",
       "      <td>...</td>\n",
       "    </tr>\n",
       "    <tr>\n",
       "      <th>41901</th>\n",
       "      <td>28017</td>\n",
       "      <td>https://www.huffingtonpost.com/entry/birth-con...</td>\n",
       "      <td>Birth Control Now Available Without Doctor Vis...</td>\n",
       "      <td>WELLNESS</td>\n",
       "      <td>Women in Colorado can now buy birth control wi...</td>\n",
       "      <td>David Pakman, ContributorHost &amp; Executive Prod...</td>\n",
       "      <td>2017-08-09</td>\n",
       "    </tr>\n",
       "    <tr>\n",
       "      <th>41902</th>\n",
       "      <td>20417</td>\n",
       "      <td>https://www.huffingtonpost.com/entry/larry-dav...</td>\n",
       "      <td>Larry David Shows His Enthusiasm Reading Mean ...</td>\n",
       "      <td>COMEDY</td>\n",
       "      <td>This is pretty, pretty funny.</td>\n",
       "      <td>Lee Moran</td>\n",
       "      <td>2017-11-15</td>\n",
       "    </tr>\n",
       "    <tr>\n",
       "      <th>41903</th>\n",
       "      <td>130323</td>\n",
       "      <td>https://www.huffingtonpost.com/entry/let-the-c...</td>\n",
       "      <td>Let The Controversy Commence!</td>\n",
       "      <td>EDUCATION</td>\n",
       "      <td>History shows us that critics--outliers, whist...</td>\n",
       "      <td>Timothy Patrick McCarthy, Contributor</td>\n",
       "      <td>2014-05-28</td>\n",
       "    </tr>\n",
       "    <tr>\n",
       "      <th>41904</th>\n",
       "      <td>69773</td>\n",
       "      <td>https://www.huffingtonpost.com/entry/duke-univ...</td>\n",
       "      <td>Duke University Urges Repeal Of North Carolina...</td>\n",
       "      <td>POLITICS</td>\n",
       "      <td>The renowned university says HB 2 is causing p...</td>\n",
       "      <td>Tyler Kingkade</td>\n",
       "      <td>2016-04-18</td>\n",
       "    </tr>\n",
       "    <tr>\n",
       "      <th>41905</th>\n",
       "      <td>15226</td>\n",
       "      <td>https://www.huffingtonpost.com/entry/dolly-par...</td>\n",
       "      <td>Dolly Parton Pays Ultimate Video Tribute To Ad...</td>\n",
       "      <td>ENTERTAINMENT</td>\n",
       "      <td>\"I thought that was a picture of me back in th...</td>\n",
       "      <td>Lee Moran</td>\n",
       "      <td>2018-01-31</td>\n",
       "    </tr>\n",
       "  </tbody>\n",
       "</table>\n",
       "<p>41906 rows × 7 columns</p>\n",
       "</div>"
      ],
      "text/plain": [
       "        index                                               link  \\\n",
       "0      161038  https://www.huffingtonpost.comhttp://www.nytim...   \n",
       "1       24711  https://www.huffingtonpost.com/entry/aung-san-...   \n",
       "2       54649  https://www.huffingtonpost.com/entry/calls-to-...   \n",
       "3      199823  https://www.huffingtonpost.com/entry/fico-8-co...   \n",
       "4       19088  https://www.huffingtonpost.com/entry/18-year-o...   \n",
       "...       ...                                                ...   \n",
       "41901   28017  https://www.huffingtonpost.com/entry/birth-con...   \n",
       "41902   20417  https://www.huffingtonpost.com/entry/larry-dav...   \n",
       "41903  130323  https://www.huffingtonpost.com/entry/let-the-c...   \n",
       "41904   69773  https://www.huffingtonpost.com/entry/duke-univ...   \n",
       "41905   15226  https://www.huffingtonpost.com/entry/dolly-par...   \n",
       "\n",
       "                                                headline             category  \\\n",
       "0      As Pay Cards Replace Paychecks, Bank Fees Hurt...  BUSINESS & FINANCES   \n",
       "1      Aung San Suu Kyi's Speech On The Rohingya Cris...           WORLD NEWS   \n",
       "2      Calls To Decriminalize Sex Work Are Growing Lo...           WORLD NEWS   \n",
       "3      FICO 8, Not FICO, Is Used In Recent Credit Com...  BUSINESS & FINANCES   \n",
       "4      18-Year-Old Confesses To Molesting 'Upwards Of...                CRIME   \n",
       "...                                                  ...                  ...   \n",
       "41901  Birth Control Now Available Without Doctor Vis...             WELLNESS   \n",
       "41902  Larry David Shows His Enthusiasm Reading Mean ...               COMEDY   \n",
       "41903                      Let The Controversy Commence!            EDUCATION   \n",
       "41904  Duke University Urges Repeal Of North Carolina...             POLITICS   \n",
       "41905  Dolly Parton Pays Ultimate Video Tribute To Ad...        ENTERTAINMENT   \n",
       "\n",
       "                                       short_description  \\\n",
       "0      A growing number of American workers are confr...   \n",
       "1      Imagine there were an ongoing humanitarian cri...   \n",
       "2      As South Africa’s government debates whether o...   \n",
       "3      And the credit industry is not helping their o...   \n",
       "4      Joseph Hayden Boston said he was 10 years old ...   \n",
       "...                                                  ...   \n",
       "41901  Women in Colorado can now buy birth control wi...   \n",
       "41902                      This is pretty, pretty funny.   \n",
       "41903  History shows us that critics--outliers, whist...   \n",
       "41904  The renowned university says HB 2 is causing p...   \n",
       "41905  \"I thought that was a picture of me back in th...   \n",
       "\n",
       "                                                 authors       date  \n",
       "0                                                        2013-06-30  \n",
       "1            Michael Shammas, ContributorWriter & Lawyer 2017-09-20  \n",
       "2                          Jen Thorpe, Women & Girls Hub 2016-10-07  \n",
       "3                                          Catherine New 2012-05-11  \n",
       "4                                    Dominique Mosbergen 2017-12-04  \n",
       "...                                                  ...        ...  \n",
       "41901  David Pakman, ContributorHost & Executive Prod... 2017-08-09  \n",
       "41902                                          Lee Moran 2017-11-15  \n",
       "41903              Timothy Patrick McCarthy, Contributor 2014-05-28  \n",
       "41904                                     Tyler Kingkade 2016-04-18  \n",
       "41905                                          Lee Moran 2018-01-31  \n",
       "\n",
       "[41906 rows x 7 columns]"
      ]
     },
     "execution_count": 117,
     "metadata": {},
     "output_type": "execute_result"
    }
   ],
   "source": [
    "test"
   ]
  },
  {
   "cell_type": "code",
   "execution_count": 122,
   "metadata": {},
   "outputs": [
    {
     "name": "stderr",
     "output_type": "stream",
     "text": [
      "100%|██████████| 41906/41906 [00:09<00:00, 4250.01it/s]\n"
     ]
    }
   ],
   "source": [
    "category_list = {}\n",
    "\n",
    "for k in tqdm(range(len(test))):\n",
    "    category_list[test.iloc[k]['headline'] + test.iloc[k]['short_description']] = test.iloc[k]['category']"
   ]
  },
  {
   "cell_type": "code",
   "execution_count": 123,
   "metadata": {},
   "outputs": [
    {
     "data": {
      "text/plain": [
       "41906"
      ]
     },
     "execution_count": 123,
     "metadata": {},
     "output_type": "execute_result"
    }
   ],
   "source": [
    "len(test)"
   ]
  },
  {
   "cell_type": "code",
   "execution_count": 124,
   "metadata": {},
   "outputs": [
    {
     "data": {
      "text/plain": [
       "41852"
      ]
     },
     "execution_count": 124,
     "metadata": {},
     "output_type": "execute_result"
    }
   ],
   "source": [
    "len(category_list)"
   ]
  },
  {
   "cell_type": "code",
   "execution_count": 126,
   "metadata": {},
   "outputs": [
    {
     "name": "stderr",
     "output_type": "stream",
     "text": [
      "100%|██████████| 41852/41852 [1:50:43<00:00,  6.30it/s]  \n"
     ]
    }
   ],
   "source": [
    "correct = 0\n",
    "\n",
    "for key, value in tqdm(category_list.items()):\n",
    "    pred, scorelist = Nb.predict(key)\n",
    "    \n",
    "    if(pred == value):\n",
    "        correct += 1\n",
    "\n",
    "acc = correct/len(test)"
   ]
  },
  {
   "cell_type": "code",
   "execution_count": 127,
   "metadata": {},
   "outputs": [
    {
     "data": {
      "text/plain": [
       "1937"
      ]
     },
     "execution_count": 127,
     "metadata": {},
     "output_type": "execute_result"
    }
   ],
   "source": [
    "correct"
   ]
  },
  {
   "cell_type": "code",
   "execution_count": null,
   "metadata": {},
   "outputs": [],
   "source": []
  },
  {
   "cell_type": "code",
   "execution_count": 128,
   "metadata": {},
   "outputs": [
    {
     "name": "stdout",
     "output_type": "stream",
     "text": [
      "Acc:  0.04622249797165084\n"
     ]
    }
   ],
   "source": [
    "print(\"Acc: \", acc)"
   ]
  },
  {
   "cell_type": "code",
   "execution_count": 81,
   "metadata": {},
   "outputs": [
    {
     "data": {
      "text/plain": [
       "POLITICS               7173\n",
       "WELLNESS               4874\n",
       "ENTERTAINMENT          3512\n",
       "PARENTING              2631\n",
       "STYLE & BEAUTY         2452\n",
       "GROUPS VOICES          2407\n",
       "TRAVEL                 1967\n",
       "WORLD NEWS             1842\n",
       "FOOD & DRINK           1702\n",
       "BUSINESS & FINANCES    1518\n",
       "SPORTS                 1072\n",
       "COMEDY                 1055\n",
       "SCIENCE & TECH          882\n",
       "HOME & LIVING           869\n",
       "ENVIRONMENT             841\n",
       "ARTS & CULTURE          750\n",
       "WEDDINGS                734\n",
       "WOMEN                   712\n",
       "DIVORCE                 704\n",
       "CRIME                   687\n",
       "IMPACT                  678\n",
       "MISCELLANEOUS           554\n",
       "WEIRD NEWS              552\n",
       "MEDIA                   549\n",
       "RELIGION                513\n",
       "EDUCATION               410\n",
       "U.S. NEWS               266\n",
       "Name: category, dtype: int64"
      ]
     },
     "execution_count": 81,
     "metadata": {},
     "output_type": "execute_result"
    }
   ],
   "source": [
    "test['category'].value_counts()"
   ]
  },
  {
   "attachments": {},
   "cell_type": "markdown",
   "metadata": {},
   "source": [
    "# Evaluation"
   ]
  },
  {
   "cell_type": "code",
   "execution_count": null,
   "metadata": {},
   "outputs": [],
   "source": [
    "def true_positive(y_true, y_pred):\n",
    "    \n",
    "    tp = 0\n",
    "    \n",
    "    for yt, yp in zip(y_true, y_pred):\n",
    "        \n",
    "        if yt == 1 and yp == 1:\n",
    "            tp += 1\n",
    "    \n",
    "    return tp\n",
    "\n",
    "def true_negative(y_true, y_pred):\n",
    "    \n",
    "    tn = 0\n",
    "    \n",
    "    for yt, yp in zip(y_true, y_pred):\n",
    "        \n",
    "        if yt == 0 and yp == 0:\n",
    "            tn += 1\n",
    "            \n",
    "    return tn\n",
    "\n",
    "def false_positive(y_true, y_pred):\n",
    "    \n",
    "    fp = 0\n",
    "    \n",
    "    for yt, yp in zip(y_true, y_pred):\n",
    "        \n",
    "        if yt == 0 and yp == 1:\n",
    "            fp += 1\n",
    "            \n",
    "    return fp\n",
    "\n",
    "def false_negative(y_true, y_pred):\n",
    "    \n",
    "    fn = 0\n",
    "    \n",
    "    for yt, yp in zip(y_true, y_pred):\n",
    "        \n",
    "        if yt == 1 and yp == 0:\n",
    "            fn += 1\n",
    "            \n",
    "    return fn"
   ]
  },
  {
   "cell_type": "code",
   "execution_count": null,
   "metadata": {},
   "outputs": [],
   "source": [
    "def macro_precision(y_true, y_pred):\n",
    "\n",
    "    num_classes = len(y_true.unique())\n",
    "    \n",
    "    precision = 0\n",
    "    \n",
    "    for classes in tqdm(list(y_true.unique())):\n",
    "        \n",
    "        temp_true = [1 if p == classes else 0 for p in y_true]\n",
    "        temp_pred = [1 if p == classes else 0 for p in y_pred]\n",
    "        \n",
    "        tp = true_positive(temp_true, temp_pred)\n",
    "        \n",
    "        fp = false_positive(temp_true, temp_pred)\n",
    "        \n",
    "        temp_precision = tp / (tp + fp + 1e-6)\n",
    "        precision += temp_precision\n",
    "    \n",
    "    precision /= num_classes\n",
    "    \n",
    "    return precision"
   ]
  },
  {
   "cell_type": "code",
   "execution_count": null,
   "metadata": {},
   "outputs": [],
   "source": [
    "def macro_recall(y_true, y_pred):\n",
    "\n",
    "    num_classes = len(y_true.unique())\n",
    "\n",
    "    recall = 0\n",
    "\n",
    "    for classes in tqdm(list(y_true.unique())):\n",
    "        \n",
    "        temp_true = [1 if p == classes else 0 for p in y_true]\n",
    "        temp_pred = [1 if p == classes else 0 for p in y_pred]\n",
    "        \n",
    "        \n",
    "        tp = true_positive(temp_true, temp_pred)\n",
    "        \n",
    "        fn = false_negative(temp_true, temp_pred)\n",
    "        \n",
    "        \n",
    "        temp_recall = tp / (tp + fn + 1e-6)\n",
    "        \n",
    "        recall += temp_recall\n",
    "        \n",
    "    recall /= num_classes\n",
    "    \n",
    "    return recall"
   ]
  }
 ],
 "metadata": {
  "kernelspec": {
   "display_name": "Bayes",
   "language": "python",
   "name": "python3"
  },
  "language_info": {
   "codemirror_mode": {
    "name": "ipython",
    "version": 3
   },
   "file_extension": ".py",
   "mimetype": "text/x-python",
   "name": "python",
   "nbconvert_exporter": "python",
   "pygments_lexer": "ipython3",
   "version": "3.8.16"
  },
  "orig_nbformat": 4
 },
 "nbformat": 4,
 "nbformat_minor": 2
}
